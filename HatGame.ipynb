{
 "cells": [
  {
   "cell_type": "code",
   "execution_count": 1,
   "id": "773be264-0cbf-4445-8799-751d5e7327ce",
   "metadata": {},
   "outputs": [],
   "source": [
    "import numpy as np\n",
    "import matplotlib.pyplot as plt\n",
    "from scipy.stats import uniform, norm\n",
    "import seaborn as sns\n",
    "%matplotlib qt\n",
    "\n",
    "import random"
   ]
  },
  {
   "cell_type": "code",
   "execution_count": 2,
   "id": "9963e47d-8e02-4ca3-b17a-9c3ea3a3c3b3",
   "metadata": {
    "tags": []
   },
   "outputs": [
    {
     "name": "stdout",
     "output_type": "stream",
     "text": [
      "26\n"
     ]
    }
   ],
   "source": [
    "def hat():\n",
    "\n",
    "    A=list(range(1,2025))\n",
    "    #print(A)\n",
    "    #print(len(A))\n",
    "    while len(A) > 1:\n",
    "        x = random.choice(A)\n",
    "        #print(x)\n",
    "        A.remove(x)\n",
    "        #print('A with x gone', A)\n",
    "        y = random.choice(A)\n",
    "        #print('This is', y)\n",
    "        A.remove(y)\n",
    "        #print(A)\n",
    "\n",
    "        #while x == y:\n",
    "            #y = random.choice(A)\n",
    "\n",
    "        diff = abs(x-y)\n",
    "        \n",
    "        A.append(diff)\n",
    "       \n",
    "        #print(A)\n",
    "\n",
    "    return A[0]\n",
    "\n",
    "final = hat()\n",
    "print(final)\n",
    "\n",
    "\n",
    "\n",
    "\n",
    "\n",
    "    "
   ]
  },
  {
   "cell_type": "code",
   "execution_count": 3,
   "id": "26859288-9e60-4a00-918f-025c5f3e54be",
   "metadata": {
    "tags": []
   },
   "outputs": [],
   "source": [
    "N=1000\n",
    "finals = []\n",
    "for i in range(N):\n",
    "    element = hat()\n",
    "    finals.append(element)\n",
    "    finals.sort()\n",
    "    \n",
    "print(finals)\n",
    "\n",
    "#plt.hist(finals, bins=len(finals), color = 'teal')\n",
    "#plt.xlabel('Final numbers')\n",
    "#plt.ylabel('Number of times final paper is on this number')\n",
    "#plt.grid('on')\n",
    "#plt.show()\n"
   ]
  },
  {
   "cell_type": "code",
   "execution_count": 4,
   "id": "a9d98087-fe8c-4751-99c7-f29f8128e6a7",
   "metadata": {
    "tags": []
   },
   "outputs": [],
   "source": [
    "Max = max(finals)+1\n",
    "\n",
    "fig,(ax1, ax2) = plt.subplots(2,1)\n",
    "bins = np.arange(0, Max)-0.5\n",
    "prob, a1, a2 = ax1.hist(finals, bins, \n",
    "               density=True, color='purple')\n",
    "ax1.set_ylabel('Probability distribution')\n",
    "ax1.set_title('Distribution of final pieces of paper')\n",
    "\n",
    "\n",
    "plt.subplots_adjust(hspace=0.1)\n",
    "plt.setp(ax1.get_xticklabels(), visible=False)\n",
    "\n",
    "cprob, b1, b2 = ax2.hist(finals, bins, \n",
    "                density=True, cumulative=True,\n",
    "                histtype='step', color = 'b')\n",
    "ax2.set_ylabel('Cumulative distribution')\n",
    "ax2.set_yticks(np.arange(0,1.01,0.1))\n",
    "ax2.set_ylim([0,1])\n",
    "ax2.set_xlabel('Final pieces of paper')\n",
    "\n",
    "\n",
    "ax2.axhline(y=0.5, color='r', linestyle=':')\n",
    "ans = np.searchsorted(cprob, 0.5)\n",
    "ax2.text(41, 0.52, 'Pr(>0.5) when the value of the final pieces of paper exceed'\n",
    "                   r'$\\geq$' f'{ans}')\n",
    "people = np.arange(1,101)\n",
    "\n",
    "for X in [ax1,ax2]:\n",
    "    X.set_xlim(0,Max-2)\n",
    "    X.grid()\n",
    "\n",
    "plt.show()"
   ]
  }
 ],
 "metadata": {
  "kernelspec": {
   "display_name": "Python 3 (ipykernel)",
   "language": "python",
   "name": "python3"
  },
  "language_info": {
   "codemirror_mode": {
    "name": "ipython",
    "version": 3
   },
   "file_extension": ".py",
   "mimetype": "text/x-python",
   "name": "python",
   "nbconvert_exporter": "python",
   "pygments_lexer": "ipython3",
   "version": "3.11.5"
  }
 },
 "nbformat": 4,
 "nbformat_minor": 5
}
